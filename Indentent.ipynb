{
 "cells": [
  {
   "cell_type": "code",
   "execution_count": null,
   "id": "91abf915",
   "metadata": {},
   "outputs": [],
   "source": [
    "if(condiation):\n",
    "    print()\n",
    "else:\n",
    "    "
   ]
  },
  {
   "cell_type": "code",
   "execution_count": null,
   "id": "d77526da",
   "metadata": {},
   "outputs": [],
   "source": [
    "for temp in range(1,11):"
   ]
  },
  {
   "cell_type": "code",
   "execution_count": null,
   "id": "081b790f",
   "metadata": {},
   "outputs": [],
   "source": [
    "def():\n",
    "    "
   ]
  }
 ],
 "metadata": {
  "kernelspec": {
   "display_name": "Python 3 (ipykernel)",
   "language": "python",
   "name": "python3"
  },
  "language_info": {
   "codemirror_mode": {
    "name": "ipython",
    "version": 3
   },
   "file_extension": ".py",
   "mimetype": "text/x-python",
   "name": "python",
   "nbconvert_exporter": "python",
   "pygments_lexer": "ipython3",
   "version": "3.7.6"
  }
 },
 "nbformat": 4,
 "nbformat_minor": 5
}
